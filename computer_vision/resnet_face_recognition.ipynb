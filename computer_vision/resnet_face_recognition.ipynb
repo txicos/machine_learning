{
 "cells": [
  {
   "cell_type": "markdown",
   "metadata": {},
   "source": [
    "\n",
    "# Faces recognition example using RESNET\n",
    "\n",
    "\n",
    "The dataset used in this example is a preprocessed excerpt of the\n",
    "\"Labeled Faces in the Wild\", aka LFW_:\n",
    "\n",
    "  http://vis-www.cs.umass.edu/lfw/lfw-funneled.tgz (233MB)\n",
    "\n",
    "\n",
    "Let's check how the popular residual network (aka RESNET) performs with a subset of images of the above dataset.\n",
    "We shall use below off-the-shelve implementation\n",
    "\n",
    "[DLIB RESNET](http://blog.dlib.net/2017/02/high-quality-face-recognition-with-deep.html)\n",
    "\n",
    "Let's first load necessary modules and data"
   ]
  },
  {
   "cell_type": "code",
   "execution_count": 9,
   "metadata": {},
   "outputs": [
    {
     "name": "stdout",
     "output_type": "stream",
     "text": [
      "Automatically created module for IPython interactive environment\n"
     ]
    }
   ],
   "source": [
    "from time import time\n",
    "import logging\n",
    "\n",
    "\n",
    "from sklearn.model_selection import train_test_split\n",
    "from sklearn.model_selection import GridSearchCV\n",
    "from sklearn.datasets import fetch_lfw_people\n",
    "from sklearn.metrics import classification_report\n",
    "from sklearn.metrics import confusion_matrix\n",
    "\n",
    "from sklearn.svm import SVC\n",
    "import dlib\n",
    "import numpy as np\n",
    "\n",
    "\n",
    "print(__doc__)\n",
    "\n",
    "# Display progress logs on stdout\n",
    "logging.basicConfig(level=logging.INFO, format='%(asctime)s %(message)s')\n",
    "\n",
    "\n",
    "# #############################################################################\n",
    "# Download the data, if not already on disk and load it as numpy arrays\n",
    "\n",
    "lfw_people = fetch_lfw_people(min_faces_per_person=30, resize=0.5,color=True)\n",
    "\n",
    "# introspect the images arrays to find the shapes (for plotting)\n",
    "n_samples, h, w, _ = lfw_people.images.shape\n",
    "\n",
    "# for machine learning we use the 2 data directly (as relative pixel\n",
    "# positions info is ignored by this model)\n",
    "Images = lfw_people.images\n",
    "n_features = Images.shape[1]"
   ]
  },
  {
   "cell_type": "markdown",
   "metadata": {},
   "source": [
    "Now load models"
   ]
  },
  {
   "cell_type": "code",
   "execution_count": 10,
   "metadata": {},
   "outputs": [],
   "source": [
    "sp = dlib.shape_predictor('models/shape_predictor_5_face_landmarks.dat')\n",
    "\n",
    "facerec = dlib.face_recognition_model_v1('models/dlib_face_recognition_resnet_model_v1.dat')"
   ]
  },
  {
   "cell_type": "markdown",
   "metadata": {},
   "source": [
    "Compute face feature descriptors"
   ]
  },
  {
   "cell_type": "code",
   "execution_count": 11,
   "metadata": {},
   "outputs": [],
   "source": [
    "X=[]\n",
    "\n",
    "for i in Images:\n",
    "    shape = sp(i.astype(np.uint8), dlib.rectangle(0,0,w,h))\n",
    "    face_descriptor = facerec.compute_face_descriptor(i.astype(np.uint8), shape)\n",
    "    X.append(face_descriptor)\n",
    "\n",
    "# the label to predict is the id of the person\n",
    "y = lfw_people.target\n",
    "target_names = lfw_people.target_names\n",
    "n_classes = target_names.shape[0]"
   ]
  },
  {
   "cell_type": "markdown",
   "metadata": {},
   "source": [
    "Create train and test data sets"
   ]
  },
  {
   "cell_type": "code",
   "execution_count": 12,
   "metadata": {},
   "outputs": [],
   "source": [
    "X_train, X_test, y_train, y_test = train_test_split(X, y, test_size=0.25, random_state=42)"
   ]
  },
  {
   "cell_type": "markdown",
   "metadata": {},
   "source": [
    "Finally train or classifier and make some predictions"
   ]
  },
  {
   "cell_type": "code",
   "execution_count": 13,
   "metadata": {},
   "outputs": [
    {
     "name": "stdout",
     "output_type": "stream",
     "text": [
      "Fitting the classifier to the training set\n",
      "done in 75.810s\n",
      "Predicting people's names on the test set\n",
      "done in 0.192s\n",
      "                           precision    recall  f1-score   support\n",
      "\n",
      "         Alejandro Toledo       0.88      1.00      0.93         7\n",
      "             Alvaro Uribe       1.00      1.00      1.00         9\n",
      "             Andre Agassi       1.00      1.00      1.00        10\n",
      "             Ariel Sharon       1.00      1.00      1.00        19\n",
      "    Arnold Schwarzenegger       1.00      1.00      1.00        11\n",
      "             Colin Powell       1.00      1.00      1.00        55\n",
      "            David Beckham       1.00      1.00      1.00         6\n",
      "          Donald Rumsfeld       1.00      1.00      1.00        34\n",
      "            George W Bush       0.99      1.00      1.00       140\n",
      "        Gerhard Schroeder       1.00      0.97      0.98        29\n",
      "  Gloria Macapagal Arroyo       1.00      1.00      1.00        10\n",
      "          Guillermo Coria       1.00      1.00      1.00        10\n",
      "                Hans Blix       1.00      1.00      1.00         9\n",
      "              Hugo Chavez       1.00      0.95      0.97        20\n",
      "           Jacques Chirac       0.93      0.93      0.93        14\n",
      "            Jean Chretien       1.00      1.00      1.00        13\n",
      "        Jennifer Capriati       1.00      1.00      1.00         7\n",
      "            John Ashcroft       1.00      1.00      1.00        15\n",
      "          John Negroponte       1.00      1.00      1.00         4\n",
      "        Junichiro Koizumi       1.00      1.00      1.00        22\n",
      "               Kofi Annan       1.00      1.00      1.00         9\n",
      "               Laura Bush       1.00      1.00      1.00        11\n",
      "           Lleyton Hewitt       1.00      1.00      1.00        12\n",
      "Luiz Inacio Lula da Silva       0.86      1.00      0.92        12\n",
      "    Megawati Sukarnoputri       1.00      1.00      1.00         7\n",
      "          Nestor Kirchner       1.00      1.00      1.00        11\n",
      "     Recep Tayyip Erdogan       1.00      0.88      0.93         8\n",
      "             Roh Moo-hyun       1.00      1.00      1.00         6\n",
      "          Serena Williams       1.00      1.00      1.00        10\n",
      "        Silvio Berlusconi       1.00      1.00      1.00         4\n",
      "                Tom Ridge       1.00      1.00      1.00         5\n",
      "               Tony Blair       1.00      0.97      0.99        39\n",
      "              Vicente Fox       1.00      1.00      1.00         5\n",
      "           Vladimir Putin       1.00      1.00      1.00        10\n",
      "\n",
      "                 accuracy                           0.99       593\n",
      "                macro avg       0.99      0.99      0.99       593\n",
      "             weighted avg       0.99      0.99      0.99       593\n",
      "\n",
      "[[ 7  0  0 ...  0  0  0]\n",
      " [ 0  9  0 ...  0  0  0]\n",
      " [ 0  0 10 ...  0  0  0]\n",
      " ...\n",
      " [ 0  0  0 ... 38  0  0]\n",
      " [ 0  0  0 ...  0  5  0]\n",
      " [ 0  0  0 ...  0  0 10]]\n"
     ]
    }
   ],
   "source": [
    "print(\"Fitting the classifier to the training set\")\n",
    "t0 = time()\n",
    "param_grid = {'C': [1e3, 5e3, 1e4, 5e4, 1e5],\n",
    "              'gamma': [0.0001, 0.0005, 0.001, 0.005, 0.01, 0.1], }\n",
    "clf = GridSearchCV(\n",
    "    SVC(kernel='rbf', class_weight='balanced'), param_grid\n",
    ")\n",
    "\n",
    "clf = clf.fit(X_train, y_train)\n",
    "print(\"done in %0.3fs\" % (time() - t0))\n",
    "\n",
    "print(\"Predicting people's names on the test set\")\n",
    "t0 = time()\n",
    "y_pred = clf.predict(X_test)\n",
    "print(\"done in %0.3fs\" % (time() - t0))\n",
    "\n",
    "print(classification_report(y_test, y_pred, target_names=target_names))\n",
    "\n",
    "print(confusion_matrix(y_test, y_pred, labels=range(n_classes)))"
   ]
  },
  {
   "cell_type": "markdown",
   "metadata": {},
   "source": [
    "Voilà, we got 99% accuracy, pretty good! Particularly if compared with a more classical feature descriptor such as PCA, found in scikit library [face recognition demo](https://scikit-learn.org/stable/auto_examples/applications/plot_face_recognition.html#sphx-glr-auto-examples-applications-plot-face-recognition-py). The example on scikit if run with `fetch_lfw_people(min_faces_per_person=30, ...)` will give an accuracy of around 65%."
   ]
  },
  {
   "cell_type": "code",
   "execution_count": null,
   "metadata": {},
   "outputs": [],
   "source": []
  }
 ],
 "metadata": {
  "kernelspec": {
   "display_name": "Python 3",
   "language": "python",
   "name": "python3"
  },
  "language_info": {
   "codemirror_mode": {
    "name": "ipython",
    "version": 3
   },
   "file_extension": ".py",
   "mimetype": "text/x-python",
   "name": "python",
   "nbconvert_exporter": "python",
   "pygments_lexer": "ipython3",
   "version": "3.7.7"
  }
 },
 "nbformat": 4,
 "nbformat_minor": 1
}
